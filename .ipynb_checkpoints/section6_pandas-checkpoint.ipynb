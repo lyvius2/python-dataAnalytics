{
 "cells": [
  {
   "cell_type": "code",
   "execution_count": 2,
   "metadata": {
    "collapsed": false
   },
   "outputs": [
    {
     "name": "stdout",
     "output_type": "stream",
     "text": [
      "32\n"
     ]
    },
    {
     "data": {
      "text/plain": [
       "'movie_info.csv'"
      ]
     },
     "execution_count": 2,
     "metadata": {},
     "output_type": "execute_result"
    }
   ],
   "source": [
    "#-*- coding: utf-8 -*-\n",
    "\n",
    "import csv\n",
    "from bs4 import BeautifulSoup as bs\n",
    "import requests\n",
    "\n",
    "\n",
    "def write_csv(data, filename, delimiter=\",\", quotechar='\"'):\n",
    "    with open(filename, 'w') as csvfile:\n",
    "        writer = csv.writer(csvfile, \\\n",
    "                            delimiter=delimiter,\\\n",
    "                            quotechar=quotechar)\n",
    "\n",
    "        writer.writerows([[item.encode('utf-8') for item in row] for row in data])\n",
    "\n",
    "        # [[item.encode('utf-8') for item in row] for row in data]\n",
    "\n",
    "    return filename\n",
    "\n",
    "\n",
    "def movie_crawler(url):\n",
    "    res = requests.get(url)\n",
    "\n",
    "    table = []\n",
    "\n",
    "    if res.status_code == 200:\n",
    "        soup = bs(res.text, 'html.parser')\n",
    "\n",
    "        movies = soup.findAll('div', {'itemtype': 'http://schema.org/Movie'})\n",
    "\n",
    "        print len(movies)\n",
    "\n",
    "        for movie in movies:\n",
    "            row = []\n",
    "\n",
    "            title = movie.findAll('h4', {'itemprop': 'name'})\n",
    "            score = movie.select('div.rating_txt > div > strong')\n",
    "            genres = movie.findAll('span', {'itemprop': 'genre'})\n",
    "            running_time = movie.findAll('time', {'itemprop': 'duration'})\n",
    "            actors = movie.findAll('span', {'itemprop': 'actors'})\n",
    "\n",
    "            title =  title[0].text.strip() if len(title)>0 else \"\"\n",
    "            score = score[0].text.strip() if len(score)>0 else \"\"\n",
    "            genre = \"/\".join([genre.text.strip() for genre in genres])\n",
    "            running_time = running_time[0].text.strip() if len(running_time)>0 else \"\"\n",
    "            actor = \"/\".join([actor.text.strip() for actor in actors])\n",
    "\n",
    "            row = [title, score, genre, running_time, actor]\n",
    "            table.append(row)\n",
    "\n",
    "    return table\n",
    "\n",
    "\n",
    "data = movie_crawler('http://www.imdb.com/movies-coming-soon/2015-01')\n",
    "write_csv(data, \"movie_info.csv\")"
   ]
  },
  {
   "cell_type": "code",
   "execution_count": 3,
   "metadata": {
    "collapsed": true
   },
   "outputs": [],
   "source": [
    "import pandas\n",
    "from pandas import DataFrame, Series\n",
    "import numpy"
   ]
  },
  {
   "cell_type": "code",
   "execution_count": 7,
   "metadata": {
    "collapsed": false
   },
   "outputs": [],
   "source": [
    "df = DataFrame(data, columns=['title','score','genre','running time','actors'])"
   ]
  },
  {
   "cell_type": "code",
   "execution_count": 9,
   "metadata": {
    "collapsed": false
   },
   "outputs": [
    {
     "data": {
      "text/html": [
       "<div>\n",
       "<table border=\"1\" class=\"dataframe\">\n",
       "  <thead>\n",
       "    <tr style=\"text-align: right;\">\n",
       "      <th></th>\n",
       "      <th>title</th>\n",
       "      <th>score</th>\n",
       "      <th>genre</th>\n",
       "      <th>running time</th>\n",
       "      <th>actors</th>\n",
       "    </tr>\n",
       "  </thead>\n",
       "  <tbody>\n",
       "    <tr>\n",
       "      <th>0</th>\n",
       "      <td>The Woman in Black 2: Angel of Death (2014)</td>\n",
       "      <td>42</td>\n",
       "      <td>Drama/Horror/Thriller</td>\n",
       "      <td>98 min</td>\n",
       "      <td>Helen McCrory/Jeremy Irvine/Phoebe Fox/Leanne ...</td>\n",
       "    </tr>\n",
       "    <tr>\n",
       "      <th>1</th>\n",
       "      <td>A Most Violent Year (2014)</td>\n",
       "      <td>79</td>\n",
       "      <td>Action/Crime/Drama/Thriller</td>\n",
       "      <td>125 min</td>\n",
       "      <td>Oscar Isaac/Jessica Chastain/David Oyelowo/Ale...</td>\n",
       "    </tr>\n",
       "    <tr>\n",
       "      <th>2</th>\n",
       "      <td>Leviafan (2014)</td>\n",
       "      <td>92</td>\n",
       "      <td>Drama</td>\n",
       "      <td>140 min</td>\n",
       "      <td>Aleksey Serebryakov/Elena Lyadova/Roman Madyan...</td>\n",
       "    </tr>\n",
       "    <tr>\n",
       "      <th>3</th>\n",
       "      <td>[REC] 4: Apocalipsis (2014)</td>\n",
       "      <td>53</td>\n",
       "      <td>Action/Horror/Thriller</td>\n",
       "      <td>95 min</td>\n",
       "      <td>Manuela Velasco/Paco Manzanedo/Héctor Colomé/I...</td>\n",
       "    </tr>\n",
       "    <tr>\n",
       "      <th>4</th>\n",
       "      <td>The Search for General Tso (2014)</td>\n",
       "      <td>72</td>\n",
       "      <td>Documentary/Comedy/History/Mystery</td>\n",
       "      <td>71 min</td>\n",
       "      <td>Ian Cheney</td>\n",
       "    </tr>\n",
       "  </tbody>\n",
       "</table>\n",
       "</div>"
      ],
      "text/plain": [
       "                                         title score  \\\n",
       "0  The Woman in Black 2: Angel of Death (2014)    42   \n",
       "1                   A Most Violent Year (2014)    79   \n",
       "2                              Leviafan (2014)    92   \n",
       "3                  [REC] 4: Apocalipsis (2014)    53   \n",
       "4            The Search for General Tso (2014)    72   \n",
       "\n",
       "                                genre running time  \\\n",
       "0               Drama/Horror/Thriller       98 min   \n",
       "1         Action/Crime/Drama/Thriller      125 min   \n",
       "2                               Drama      140 min   \n",
       "3              Action/Horror/Thriller       95 min   \n",
       "4  Documentary/Comedy/History/Mystery       71 min   \n",
       "\n",
       "                                              actors  \n",
       "0  Helen McCrory/Jeremy Irvine/Phoebe Fox/Leanne ...  \n",
       "1  Oscar Isaac/Jessica Chastain/David Oyelowo/Ale...  \n",
       "2  Aleksey Serebryakov/Elena Lyadova/Roman Madyan...  \n",
       "3  Manuela Velasco/Paco Manzanedo/Héctor Colomé/I...  \n",
       "4                                         Ian Cheney  "
      ]
     },
     "execution_count": 9,
     "metadata": {},
     "output_type": "execute_result"
    }
   ],
   "source": [
    "df.head()"
   ]
  },
  {
   "cell_type": "code",
   "execution_count": 10,
   "metadata": {
    "collapsed": false
   },
   "outputs": [
    {
     "data": {
      "text/html": [
       "<div>\n",
       "<table border=\"1\" class=\"dataframe\">\n",
       "  <thead>\n",
       "    <tr style=\"text-align: right;\">\n",
       "      <th></th>\n",
       "      <th>title</th>\n",
       "      <th>score</th>\n",
       "      <th>genre</th>\n",
       "      <th>running time</th>\n",
       "      <th>actors</th>\n",
       "    </tr>\n",
       "  </thead>\n",
       "  <tbody>\n",
       "    <tr>\n",
       "      <th>27</th>\n",
       "      <td>The Loft (2014)</td>\n",
       "      <td>24</td>\n",
       "      <td>Mystery/Romance/Thriller</td>\n",
       "      <td>108 min</td>\n",
       "      <td>Karl Urban/James Marsden/Wentworth Miller/Eric...</td>\n",
       "    </tr>\n",
       "    <tr>\n",
       "      <th>28</th>\n",
       "      <td>Wild Card (2015)</td>\n",
       "      <td>40</td>\n",
       "      <td>Action/Crime/Drama/Thriller</td>\n",
       "      <td>92 min</td>\n",
       "      <td>Jason Statham/Michael Angarano/Dominik García-...</td>\n",
       "    </tr>\n",
       "    <tr>\n",
       "      <th>29</th>\n",
       "      <td>Amira &amp; Sam (2014)</td>\n",
       "      <td>58</td>\n",
       "      <td>Comedy/Drama/Romance</td>\n",
       "      <td>90 min</td>\n",
       "      <td>Martin Starr/Dina Shihabi/Paul Wesley/Laith Nakli</td>\n",
       "    </tr>\n",
       "    <tr>\n",
       "      <th>30</th>\n",
       "      <td>Timbuktu (2014)</td>\n",
       "      <td>92</td>\n",
       "      <td>Drama</td>\n",
       "      <td>97 min</td>\n",
       "      <td>Ibrahim Ahmed/Abel Jafri/Toulou Kiki/Layla Wal...</td>\n",
       "    </tr>\n",
       "    <tr>\n",
       "      <th>31</th>\n",
       "      <td>Bande de filles (2014)</td>\n",
       "      <td>85</td>\n",
       "      <td>Drama</td>\n",
       "      <td>113 min</td>\n",
       "      <td>Karidja Touré/Assa Sylla/Lindsay Karamoh/Marié...</td>\n",
       "    </tr>\n",
       "  </tbody>\n",
       "</table>\n",
       "</div>"
      ],
      "text/plain": [
       "                     title score                        genre running time  \\\n",
       "27         The Loft (2014)    24     Mystery/Romance/Thriller      108 min   \n",
       "28        Wild Card (2015)    40  Action/Crime/Drama/Thriller       92 min   \n",
       "29      Amira & Sam (2014)    58         Comedy/Drama/Romance       90 min   \n",
       "30         Timbuktu (2014)    92                        Drama       97 min   \n",
       "31  Bande de filles (2014)    85                        Drama      113 min   \n",
       "\n",
       "                                               actors  \n",
       "27  Karl Urban/James Marsden/Wentworth Miller/Eric...  \n",
       "28  Jason Statham/Michael Angarano/Dominik García-...  \n",
       "29  Martin Starr/Dina Shihabi/Paul Wesley/Laith Nakli  \n",
       "30  Ibrahim Ahmed/Abel Jafri/Toulou Kiki/Layla Wal...  \n",
       "31  Karidja Touré/Assa Sylla/Lindsay Karamoh/Marié...  "
      ]
     },
     "execution_count": 10,
     "metadata": {},
     "output_type": "execute_result"
    }
   ],
   "source": [
    "df.tail()"
   ]
  },
  {
   "cell_type": "code",
   "execution_count": 11,
   "metadata": {
    "collapsed": true
   },
   "outputs": [],
   "source": [
    "sr = Series([1,2,3])"
   ]
  },
  {
   "cell_type": "code",
   "execution_count": 12,
   "metadata": {
    "collapsed": false
   },
   "outputs": [
    {
     "data": {
      "text/plain": [
       "0    1\n",
       "1    2\n",
       "2    3\n",
       "dtype: int64"
      ]
     },
     "execution_count": 12,
     "metadata": {},
     "output_type": "execute_result"
    }
   ],
   "source": [
    "sr"
   ]
  },
  {
   "cell_type": "code",
   "execution_count": 13,
   "metadata": {
    "collapsed": false
   },
   "outputs": [
    {
     "data": {
      "text/plain": [
       "numpy.ndarray"
      ]
     },
     "execution_count": 13,
     "metadata": {},
     "output_type": "execute_result"
    }
   ],
   "source": [
    "type(sr.values)"
   ]
  },
  {
   "cell_type": "code",
   "execution_count": 14,
   "metadata": {
    "collapsed": false
   },
   "outputs": [
    {
     "data": {
      "text/plain": [
       "Int64Index([0, 1, 2], dtype='int64')"
      ]
     },
     "execution_count": 14,
     "metadata": {},
     "output_type": "execute_result"
    }
   ],
   "source": [
    "sr.index"
   ]
  },
  {
   "cell_type": "code",
   "execution_count": 16,
   "metadata": {
    "collapsed": false
   },
   "outputs": [],
   "source": [
    "df = DataFrame([[1,2,3],[4,5,6]], columns=['a','b','c'])"
   ]
  },
  {
   "cell_type": "code",
   "execution_count": 17,
   "metadata": {
    "collapsed": false
   },
   "outputs": [
    {
     "data": {
      "text/html": [
       "<div>\n",
       "<table border=\"1\" class=\"dataframe\">\n",
       "  <thead>\n",
       "    <tr style=\"text-align: right;\">\n",
       "      <th></th>\n",
       "      <th>a</th>\n",
       "      <th>b</th>\n",
       "      <th>c</th>\n",
       "    </tr>\n",
       "  </thead>\n",
       "  <tbody>\n",
       "    <tr>\n",
       "      <th>0</th>\n",
       "      <td>1</td>\n",
       "      <td>2</td>\n",
       "      <td>3</td>\n",
       "    </tr>\n",
       "    <tr>\n",
       "      <th>1</th>\n",
       "      <td>4</td>\n",
       "      <td>5</td>\n",
       "      <td>6</td>\n",
       "    </tr>\n",
       "  </tbody>\n",
       "</table>\n",
       "</div>"
      ],
      "text/plain": [
       "   a  b  c\n",
       "0  1  2  3\n",
       "1  4  5  6"
      ]
     },
     "execution_count": 17,
     "metadata": {},
     "output_type": "execute_result"
    }
   ],
   "source": [
    "df"
   ]
  },
  {
   "cell_type": "code",
   "execution_count": 18,
   "metadata": {
    "collapsed": false
   },
   "outputs": [
    {
     "data": {
      "text/plain": [
       "pandas.core.series.Series"
      ]
     },
     "execution_count": 18,
     "metadata": {},
     "output_type": "execute_result"
    }
   ],
   "source": [
    "type(df['a'])"
   ]
  },
  {
   "cell_type": "code",
   "execution_count": 19,
   "metadata": {
    "collapsed": true
   },
   "outputs": [],
   "source": [
    "data = {\n",
    "    'name': ['똘기', '떵이', '호치', '새촘'],\n",
    "    'chinese zodiac': ['Rat', 'Pig', 'Tiger', 'Rabbit'],\n",
    "    'year': [1984,1985,1986,1987]\n",
    "}"
   ]
  },
  {
   "cell_type": "code",
   "execution_count": 20,
   "metadata": {
    "collapsed": false
   },
   "outputs": [
    {
     "data": {
      "text/html": [
       "<div>\n",
       "<table border=\"1\" class=\"dataframe\">\n",
       "  <thead>\n",
       "    <tr style=\"text-align: right;\">\n",
       "      <th></th>\n",
       "      <th>chinese zodiac</th>\n",
       "      <th>name</th>\n",
       "      <th>year</th>\n",
       "    </tr>\n",
       "  </thead>\n",
       "  <tbody>\n",
       "    <tr>\n",
       "      <th>0</th>\n",
       "      <td>Rat</td>\n",
       "      <td>똘기</td>\n",
       "      <td>1984</td>\n",
       "    </tr>\n",
       "    <tr>\n",
       "      <th>1</th>\n",
       "      <td>Pig</td>\n",
       "      <td>떵이</td>\n",
       "      <td>1985</td>\n",
       "    </tr>\n",
       "    <tr>\n",
       "      <th>2</th>\n",
       "      <td>Tiger</td>\n",
       "      <td>호치</td>\n",
       "      <td>1986</td>\n",
       "    </tr>\n",
       "    <tr>\n",
       "      <th>3</th>\n",
       "      <td>Rabbit</td>\n",
       "      <td>새촘</td>\n",
       "      <td>1987</td>\n",
       "    </tr>\n",
       "  </tbody>\n",
       "</table>\n",
       "</div>"
      ],
      "text/plain": [
       "  chinese zodiac name  year\n",
       "0            Rat   똘기  1984\n",
       "1            Pig   떵이  1985\n",
       "2          Tiger   호치  1986\n",
       "3         Rabbit   새촘  1987"
      ]
     },
     "execution_count": 20,
     "metadata": {},
     "output_type": "execute_result"
    }
   ],
   "source": [
    "df = DataFrame(data)\n",
    "df"
   ]
  },
  {
   "cell_type": "code",
   "execution_count": 21,
   "metadata": {
    "collapsed": true
   },
   "outputs": [],
   "source": [
    "df = DataFrame(data, columns=['name','year','chinese zodiac'])"
   ]
  },
  {
   "cell_type": "code",
   "execution_count": 22,
   "metadata": {
    "collapsed": false
   },
   "outputs": [
    {
     "data": {
      "text/html": [
       "<div>\n",
       "<table border=\"1\" class=\"dataframe\">\n",
       "  <thead>\n",
       "    <tr style=\"text-align: right;\">\n",
       "      <th></th>\n",
       "      <th>name</th>\n",
       "      <th>year</th>\n",
       "      <th>chinese zodiac</th>\n",
       "    </tr>\n",
       "  </thead>\n",
       "  <tbody>\n",
       "    <tr>\n",
       "      <th>0</th>\n",
       "      <td>똘기</td>\n",
       "      <td>1984</td>\n",
       "      <td>Rat</td>\n",
       "    </tr>\n",
       "    <tr>\n",
       "      <th>1</th>\n",
       "      <td>떵이</td>\n",
       "      <td>1985</td>\n",
       "      <td>Pig</td>\n",
       "    </tr>\n",
       "    <tr>\n",
       "      <th>2</th>\n",
       "      <td>호치</td>\n",
       "      <td>1986</td>\n",
       "      <td>Tiger</td>\n",
       "    </tr>\n",
       "    <tr>\n",
       "      <th>3</th>\n",
       "      <td>새촘</td>\n",
       "      <td>1987</td>\n",
       "      <td>Rabbit</td>\n",
       "    </tr>\n",
       "  </tbody>\n",
       "</table>\n",
       "</div>"
      ],
      "text/plain": [
       "  name  year chinese zodiac\n",
       "0   똘기  1984            Rat\n",
       "1   떵이  1985            Pig\n",
       "2   호치  1986          Tiger\n",
       "3   새촘  1987         Rabbit"
      ]
     },
     "execution_count": 22,
     "metadata": {},
     "output_type": "execute_result"
    }
   ],
   "source": [
    "df"
   ]
  },
  {
   "cell_type": "code",
   "execution_count": 23,
   "metadata": {
    "collapsed": false
   },
   "outputs": [
    {
     "data": {
      "text/plain": [
       "name                 호치\n",
       "year               1986\n",
       "chinese zodiac    Tiger\n",
       "Name: 2, dtype: object"
      ]
     },
     "execution_count": 23,
     "metadata": {},
     "output_type": "execute_result"
    }
   ],
   "source": [
    "df.ix[2]"
   ]
  },
  {
   "cell_type": "code",
   "execution_count": 25,
   "metadata": {
    "collapsed": false
   },
   "outputs": [
    {
     "data": {
      "text/plain": [
       "0    똘기\n",
       "1    떵이\n",
       "2    호치\n",
       "3    새촘\n",
       "Name: name, dtype: object"
      ]
     },
     "execution_count": 25,
     "metadata": {},
     "output_type": "execute_result"
    }
   ],
   "source": [
    "df['name']"
   ]
  },
  {
   "cell_type": "code",
   "execution_count": 26,
   "metadata": {
    "collapsed": false,
    "scrolled": true
   },
   "outputs": [
    {
     "data": {
      "text/html": [
       "<div>\n",
       "<table border=\"1\" class=\"dataframe\">\n",
       "  <thead>\n",
       "    <tr style=\"text-align: right;\">\n",
       "      <th></th>\n",
       "      <th>year</th>\n",
       "      <th>name</th>\n",
       "    </tr>\n",
       "  </thead>\n",
       "  <tbody>\n",
       "    <tr>\n",
       "      <th>0</th>\n",
       "      <td>1984</td>\n",
       "      <td>똘기</td>\n",
       "    </tr>\n",
       "    <tr>\n",
       "      <th>1</th>\n",
       "      <td>1985</td>\n",
       "      <td>떵이</td>\n",
       "    </tr>\n",
       "    <tr>\n",
       "      <th>2</th>\n",
       "      <td>1986</td>\n",
       "      <td>호치</td>\n",
       "    </tr>\n",
       "    <tr>\n",
       "      <th>3</th>\n",
       "      <td>1987</td>\n",
       "      <td>새촘</td>\n",
       "    </tr>\n",
       "  </tbody>\n",
       "</table>\n",
       "</div>"
      ],
      "text/plain": [
       "   year name\n",
       "0  1984   똘기\n",
       "1  1985   떵이\n",
       "2  1986   호치\n",
       "3  1987   새촘"
      ]
     },
     "execution_count": 26,
     "metadata": {},
     "output_type": "execute_result"
    }
   ],
   "source": [
    "df[['year','name']]"
   ]
  },
  {
   "cell_type": "code",
   "execution_count": 30,
   "metadata": {
    "collapsed": false
   },
   "outputs": [],
   "source": [
    "df.rename(columns = {'name':'이름'},inplace=True)"
   ]
  },
  {
   "cell_type": "code",
   "execution_count": 31,
   "metadata": {
    "collapsed": false
   },
   "outputs": [
    {
     "data": {
      "text/html": [
       "<div>\n",
       "<table border=\"1\" class=\"dataframe\">\n",
       "  <thead>\n",
       "    <tr style=\"text-align: right;\">\n",
       "      <th></th>\n",
       "      <th>이름</th>\n",
       "      <th>year</th>\n",
       "      <th>chinese zodiac</th>\n",
       "    </tr>\n",
       "  </thead>\n",
       "  <tbody>\n",
       "    <tr>\n",
       "      <th>0</th>\n",
       "      <td>똘기</td>\n",
       "      <td>1984</td>\n",
       "      <td>Rat</td>\n",
       "    </tr>\n",
       "    <tr>\n",
       "      <th>1</th>\n",
       "      <td>떵이</td>\n",
       "      <td>1985</td>\n",
       "      <td>Pig</td>\n",
       "    </tr>\n",
       "    <tr>\n",
       "      <th>2</th>\n",
       "      <td>호치</td>\n",
       "      <td>1986</td>\n",
       "      <td>Tiger</td>\n",
       "    </tr>\n",
       "    <tr>\n",
       "      <th>3</th>\n",
       "      <td>새촘</td>\n",
       "      <td>1987</td>\n",
       "      <td>Rabbit</td>\n",
       "    </tr>\n",
       "  </tbody>\n",
       "</table>\n",
       "</div>"
      ],
      "text/plain": [
       "   이름  year chinese zodiac\n",
       "0  똘기  1984            Rat\n",
       "1  떵이  1985            Pig\n",
       "2  호치  1986          Tiger\n",
       "3  새촘  1987         Rabbit"
      ]
     },
     "execution_count": 31,
     "metadata": {},
     "output_type": "execute_result"
    }
   ],
   "source": [
    "df"
   ]
  },
  {
   "cell_type": "code",
   "execution_count": 32,
   "metadata": {
    "collapsed": false
   },
   "outputs": [],
   "source": [
    "df.rename(index={0:'a'}, inplace=True)"
   ]
  },
  {
   "cell_type": "code",
   "execution_count": 33,
   "metadata": {
    "collapsed": false
   },
   "outputs": [
    {
     "data": {
      "text/html": [
       "<div>\n",
       "<table border=\"1\" class=\"dataframe\">\n",
       "  <thead>\n",
       "    <tr style=\"text-align: right;\">\n",
       "      <th></th>\n",
       "      <th>이름</th>\n",
       "      <th>year</th>\n",
       "      <th>chinese zodiac</th>\n",
       "    </tr>\n",
       "  </thead>\n",
       "  <tbody>\n",
       "    <tr>\n",
       "      <th>a</th>\n",
       "      <td>똘기</td>\n",
       "      <td>1984</td>\n",
       "      <td>Rat</td>\n",
       "    </tr>\n",
       "    <tr>\n",
       "      <th>1</th>\n",
       "      <td>떵이</td>\n",
       "      <td>1985</td>\n",
       "      <td>Pig</td>\n",
       "    </tr>\n",
       "    <tr>\n",
       "      <th>2</th>\n",
       "      <td>호치</td>\n",
       "      <td>1986</td>\n",
       "      <td>Tiger</td>\n",
       "    </tr>\n",
       "    <tr>\n",
       "      <th>3</th>\n",
       "      <td>새촘</td>\n",
       "      <td>1987</td>\n",
       "      <td>Rabbit</td>\n",
       "    </tr>\n",
       "  </tbody>\n",
       "</table>\n",
       "</div>"
      ],
      "text/plain": [
       "   이름  year chinese zodiac\n",
       "a  똘기  1984            Rat\n",
       "1  떵이  1985            Pig\n",
       "2  호치  1986          Tiger\n",
       "3  새촘  1987         Rabbit"
      ]
     },
     "execution_count": 33,
     "metadata": {},
     "output_type": "execute_result"
    }
   ],
   "source": [
    "df"
   ]
  },
  {
   "cell_type": "code",
   "execution_count": 34,
   "metadata": {
    "collapsed": true
   },
   "outputs": [],
   "source": [
    "data = [\n",
    "    ['마션',2015,'감자먹방'],\n",
    "    ['사도',2015,'얀데레&츤데레'],\n",
    "    ['동주',2016,'별헤는밤']\n",
    "]"
   ]
  },
  {
   "cell_type": "code",
   "execution_count": 35,
   "metadata": {
    "collapsed": true
   },
   "outputs": [],
   "source": [
    "df = DataFrame(data, columns={'영화제목','연도','장르'})"
   ]
  },
  {
   "cell_type": "code",
   "execution_count": 36,
   "metadata": {
    "collapsed": false
   },
   "outputs": [
    {
     "data": {
      "text/html": [
       "<div>\n",
       "<table border=\"1\" class=\"dataframe\">\n",
       "  <thead>\n",
       "    <tr style=\"text-align: right;\">\n",
       "      <th></th>\n",
       "      <th>영화제목</th>\n",
       "      <th>장르</th>\n",
       "      <th>연도</th>\n",
       "    </tr>\n",
       "  </thead>\n",
       "  <tbody>\n",
       "    <tr>\n",
       "      <th>0</th>\n",
       "      <td>마션</td>\n",
       "      <td>2015</td>\n",
       "      <td>감자먹방</td>\n",
       "    </tr>\n",
       "    <tr>\n",
       "      <th>1</th>\n",
       "      <td>사도</td>\n",
       "      <td>2015</td>\n",
       "      <td>얀데레&amp;츤데레</td>\n",
       "    </tr>\n",
       "    <tr>\n",
       "      <th>2</th>\n",
       "      <td>동주</td>\n",
       "      <td>2016</td>\n",
       "      <td>별헤는밤</td>\n",
       "    </tr>\n",
       "  </tbody>\n",
       "</table>\n",
       "</div>"
      ],
      "text/plain": [
       "  영화제목    장르       연도\n",
       "0   마션  2015     감자먹방\n",
       "1   사도  2015  얀데레&츤데레\n",
       "2   동주  2016     별헤는밤"
      ]
     },
     "execution_count": 36,
     "metadata": {},
     "output_type": "execute_result"
    }
   ],
   "source": [
    "df"
   ]
  },
  {
   "cell_type": "code",
   "execution_count": 37,
   "metadata": {
    "collapsed": false
   },
   "outputs": [
    {
     "data": {
      "text/html": [
       "<div>\n",
       "<table border=\"1\" class=\"dataframe\">\n",
       "  <thead>\n",
       "    <tr style=\"text-align: right;\">\n",
       "      <th></th>\n",
       "      <th>영화제목</th>\n",
       "      <th>장르</th>\n",
       "      <th>연도</th>\n",
       "    </tr>\n",
       "  </thead>\n",
       "  <tbody>\n",
       "    <tr>\n",
       "      <th>0</th>\n",
       "      <td>마션</td>\n",
       "      <td>2015</td>\n",
       "      <td>감자먹방</td>\n",
       "    </tr>\n",
       "    <tr>\n",
       "      <th>1</th>\n",
       "      <td>사도</td>\n",
       "      <td>2015</td>\n",
       "      <td>얀데레&amp;츤데레</td>\n",
       "    </tr>\n",
       "    <tr>\n",
       "      <th>2</th>\n",
       "      <td>동주</td>\n",
       "      <td>2016</td>\n",
       "      <td>별헤는밤</td>\n",
       "    </tr>\n",
       "  </tbody>\n",
       "</table>\n",
       "</div>"
      ],
      "text/plain": [
       "  영화제목    장르       연도\n",
       "0   마션  2015     감자먹방\n",
       "1   사도  2015  얀데레&츤데레\n",
       "2   동주  2016     별헤는밤"
      ]
     },
     "execution_count": 37,
     "metadata": {},
     "output_type": "execute_result"
    }
   ],
   "source": [
    "df"
   ]
  },
  {
   "cell_type": "code",
   "execution_count": 38,
   "metadata": {
    "collapsed": true
   },
   "outputs": [],
   "source": [
    "df = DataFrame(data, columns=['영화제목','연도','장르'])"
   ]
  },
  {
   "cell_type": "code",
   "execution_count": 39,
   "metadata": {
    "collapsed": false
   },
   "outputs": [
    {
     "data": {
      "text/html": [
       "<div>\n",
       "<table border=\"1\" class=\"dataframe\">\n",
       "  <thead>\n",
       "    <tr style=\"text-align: right;\">\n",
       "      <th></th>\n",
       "      <th>영화제목</th>\n",
       "      <th>연도</th>\n",
       "      <th>장르</th>\n",
       "    </tr>\n",
       "  </thead>\n",
       "  <tbody>\n",
       "    <tr>\n",
       "      <th>0</th>\n",
       "      <td>마션</td>\n",
       "      <td>2015</td>\n",
       "      <td>감자먹방</td>\n",
       "    </tr>\n",
       "    <tr>\n",
       "      <th>1</th>\n",
       "      <td>사도</td>\n",
       "      <td>2015</td>\n",
       "      <td>얀데레&amp;츤데레</td>\n",
       "    </tr>\n",
       "    <tr>\n",
       "      <th>2</th>\n",
       "      <td>동주</td>\n",
       "      <td>2016</td>\n",
       "      <td>별헤는밤</td>\n",
       "    </tr>\n",
       "  </tbody>\n",
       "</table>\n",
       "</div>"
      ],
      "text/plain": [
       "  영화제목    연도       장르\n",
       "0   마션  2015     감자먹방\n",
       "1   사도  2015  얀데레&츤데레\n",
       "2   동주  2016     별헤는밤"
      ]
     },
     "execution_count": 39,
     "metadata": {},
     "output_type": "execute_result"
    }
   ],
   "source": [
    "df"
   ]
  },
  {
   "cell_type": "code",
   "execution_count": 40,
   "metadata": {
    "collapsed": false
   },
   "outputs": [
    {
     "data": {
      "text/html": [
       "<div>\n",
       "<table border=\"1\" class=\"dataframe\">\n",
       "  <thead>\n",
       "    <tr style=\"text-align: right;\">\n",
       "      <th></th>\n",
       "      <th>영화제목</th>\n",
       "      <th>연도</th>\n",
       "      <th>장르</th>\n",
       "    </tr>\n",
       "  </thead>\n",
       "  <tbody>\n",
       "    <tr>\n",
       "      <th>0</th>\n",
       "      <td>마션</td>\n",
       "      <td>2015</td>\n",
       "      <td>감자먹방</td>\n",
       "    </tr>\n",
       "    <tr>\n",
       "      <th>1</th>\n",
       "      <td>사도</td>\n",
       "      <td>2015</td>\n",
       "      <td>얀데레&amp;츤데레</td>\n",
       "    </tr>\n",
       "    <tr>\n",
       "      <th>2</th>\n",
       "      <td>동주</td>\n",
       "      <td>2016</td>\n",
       "      <td>별헤는밤</td>\n",
       "    </tr>\n",
       "  </tbody>\n",
       "</table>\n",
       "</div>"
      ],
      "text/plain": [
       "  영화제목    연도       장르\n",
       "0   마션  2015     감자먹방\n",
       "1   사도  2015  얀데레&츤데레\n",
       "2   동주  2016     별헤는밤"
      ]
     },
     "execution_count": 40,
     "metadata": {},
     "output_type": "execute_result"
    }
   ],
   "source": [
    "df"
   ]
  },
  {
   "cell_type": "code",
   "execution_count": 41,
   "metadata": {
    "collapsed": true
   },
   "outputs": [],
   "source": [
    "df = DataFrame(data, columns=['연도','영화제목','장르'])"
   ]
  },
  {
   "cell_type": "code",
   "execution_count": 42,
   "metadata": {
    "collapsed": false
   },
   "outputs": [
    {
     "data": {
      "text/html": [
       "<div>\n",
       "<table border=\"1\" class=\"dataframe\">\n",
       "  <thead>\n",
       "    <tr style=\"text-align: right;\">\n",
       "      <th></th>\n",
       "      <th>연도</th>\n",
       "      <th>영화제목</th>\n",
       "      <th>장르</th>\n",
       "    </tr>\n",
       "  </thead>\n",
       "  <tbody>\n",
       "    <tr>\n",
       "      <th>0</th>\n",
       "      <td>마션</td>\n",
       "      <td>2015</td>\n",
       "      <td>감자먹방</td>\n",
       "    </tr>\n",
       "    <tr>\n",
       "      <th>1</th>\n",
       "      <td>사도</td>\n",
       "      <td>2015</td>\n",
       "      <td>얀데레&amp;츤데레</td>\n",
       "    </tr>\n",
       "    <tr>\n",
       "      <th>2</th>\n",
       "      <td>동주</td>\n",
       "      <td>2016</td>\n",
       "      <td>별헤는밤</td>\n",
       "    </tr>\n",
       "  </tbody>\n",
       "</table>\n",
       "</div>"
      ],
      "text/plain": [
       "   연도  영화제목       장르\n",
       "0  마션  2015     감자먹방\n",
       "1  사도  2015  얀데레&츤데레\n",
       "2  동주  2016     별헤는밤"
      ]
     },
     "execution_count": 42,
     "metadata": {},
     "output_type": "execute_result"
    }
   ],
   "source": [
    "df"
   ]
  },
  {
   "cell_type": "code",
   "execution_count": 43,
   "metadata": {
    "collapsed": false
   },
   "outputs": [
    {
     "data": {
      "text/html": [
       "<div>\n",
       "<table border=\"1\" class=\"dataframe\">\n",
       "  <thead>\n",
       "    <tr style=\"text-align: right;\">\n",
       "      <th></th>\n",
       "      <th>영화제목</th>\n",
       "      <th>연도</th>\n",
       "      <th>장르</th>\n",
       "    </tr>\n",
       "  </thead>\n",
       "  <tbody>\n",
       "    <tr>\n",
       "      <th>0</th>\n",
       "      <td>마션</td>\n",
       "      <td>2015</td>\n",
       "      <td>감자먹방</td>\n",
       "    </tr>\n",
       "    <tr>\n",
       "      <th>1</th>\n",
       "      <td>사도</td>\n",
       "      <td>2015</td>\n",
       "      <td>얀데레&amp;츤데레</td>\n",
       "    </tr>\n",
       "    <tr>\n",
       "      <th>2</th>\n",
       "      <td>동주</td>\n",
       "      <td>2016</td>\n",
       "      <td>별헤는밤</td>\n",
       "    </tr>\n",
       "  </tbody>\n",
       "</table>\n",
       "</div>"
      ],
      "text/plain": [
       "  영화제목    연도       장르\n",
       "0   마션  2015     감자먹방\n",
       "1   사도  2015  얀데레&츤데레\n",
       "2   동주  2016     별헤는밤"
      ]
     },
     "execution_count": 43,
     "metadata": {},
     "output_type": "execute_result"
    }
   ],
   "source": [
    "df = DataFrame(data, columns=['영화제목','연도','장르'])\n",
    "df"
   ]
  },
  {
   "cell_type": "code",
   "execution_count": 44,
   "metadata": {
    "collapsed": true
   },
   "outputs": [],
   "source": [
    "df.columns = ['title','year','genre']"
   ]
  },
  {
   "cell_type": "code",
   "execution_count": 45,
   "metadata": {
    "collapsed": false
   },
   "outputs": [
    {
     "data": {
      "text/html": [
       "<div>\n",
       "<table border=\"1\" class=\"dataframe\">\n",
       "  <thead>\n",
       "    <tr style=\"text-align: right;\">\n",
       "      <th></th>\n",
       "      <th>title</th>\n",
       "      <th>year</th>\n",
       "      <th>genre</th>\n",
       "    </tr>\n",
       "  </thead>\n",
       "  <tbody>\n",
       "    <tr>\n",
       "      <th>0</th>\n",
       "      <td>마션</td>\n",
       "      <td>2015</td>\n",
       "      <td>감자먹방</td>\n",
       "    </tr>\n",
       "    <tr>\n",
       "      <th>1</th>\n",
       "      <td>사도</td>\n",
       "      <td>2015</td>\n",
       "      <td>얀데레&amp;츤데레</td>\n",
       "    </tr>\n",
       "    <tr>\n",
       "      <th>2</th>\n",
       "      <td>동주</td>\n",
       "      <td>2016</td>\n",
       "      <td>별헤는밤</td>\n",
       "    </tr>\n",
       "  </tbody>\n",
       "</table>\n",
       "</div>"
      ],
      "text/plain": [
       "  title  year    genre\n",
       "0    마션  2015     감자먹방\n",
       "1    사도  2015  얀데레&츤데레\n",
       "2    동주  2016     별헤는밤"
      ]
     },
     "execution_count": 45,
     "metadata": {},
     "output_type": "execute_result"
    }
   ],
   "source": [
    "df"
   ]
  },
  {
   "cell_type": "code",
   "execution_count": 50,
   "metadata": {
    "collapsed": false
   },
   "outputs": [],
   "source": [
    "df2 = df[['year','title','genre']]"
   ]
  },
  {
   "cell_type": "code",
   "execution_count": 48,
   "metadata": {
    "collapsed": false
   },
   "outputs": [],
   "source": [
    "df.rename(index={0:1,1:2,2:3},inplace=True)"
   ]
  },
  {
   "cell_type": "code",
   "execution_count": 51,
   "metadata": {
    "collapsed": false
   },
   "outputs": [
    {
     "data": {
      "text/html": [
       "<div>\n",
       "<table border=\"1\" class=\"dataframe\">\n",
       "  <thead>\n",
       "    <tr style=\"text-align: right;\">\n",
       "      <th></th>\n",
       "      <th>year</th>\n",
       "      <th>title</th>\n",
       "      <th>genre</th>\n",
       "    </tr>\n",
       "  </thead>\n",
       "  <tbody>\n",
       "    <tr>\n",
       "      <th>1</th>\n",
       "      <td>2015</td>\n",
       "      <td>마션</td>\n",
       "      <td>감자먹방</td>\n",
       "    </tr>\n",
       "    <tr>\n",
       "      <th>2</th>\n",
       "      <td>2015</td>\n",
       "      <td>사도</td>\n",
       "      <td>얀데레&amp;츤데레</td>\n",
       "    </tr>\n",
       "    <tr>\n",
       "      <th>3</th>\n",
       "      <td>2016</td>\n",
       "      <td>동주</td>\n",
       "      <td>별헤는밤</td>\n",
       "    </tr>\n",
       "  </tbody>\n",
       "</table>\n",
       "</div>"
      ],
      "text/plain": [
       "   year title    genre\n",
       "1  2015    마션     감자먹방\n",
       "2  2015    사도  얀데레&츤데레\n",
       "3  2016    동주     별헤는밤"
      ]
     },
     "execution_count": 51,
     "metadata": {},
     "output_type": "execute_result"
    }
   ],
   "source": [
    "df2"
   ]
  },
  {
   "cell_type": "code",
   "execution_count": 52,
   "metadata": {
    "collapsed": true
   },
   "outputs": [],
   "source": [
    "df2.index = [4,5,6]"
   ]
  },
  {
   "cell_type": "code",
   "execution_count": 53,
   "metadata": {
    "collapsed": false
   },
   "outputs": [
    {
     "data": {
      "text/html": [
       "<div>\n",
       "<table border=\"1\" class=\"dataframe\">\n",
       "  <thead>\n",
       "    <tr style=\"text-align: right;\">\n",
       "      <th></th>\n",
       "      <th>year</th>\n",
       "      <th>title</th>\n",
       "      <th>genre</th>\n",
       "    </tr>\n",
       "  </thead>\n",
       "  <tbody>\n",
       "    <tr>\n",
       "      <th>4</th>\n",
       "      <td>2015</td>\n",
       "      <td>마션</td>\n",
       "      <td>감자먹방</td>\n",
       "    </tr>\n",
       "    <tr>\n",
       "      <th>5</th>\n",
       "      <td>2015</td>\n",
       "      <td>사도</td>\n",
       "      <td>얀데레&amp;츤데레</td>\n",
       "    </tr>\n",
       "    <tr>\n",
       "      <th>6</th>\n",
       "      <td>2016</td>\n",
       "      <td>동주</td>\n",
       "      <td>별헤는밤</td>\n",
       "    </tr>\n",
       "  </tbody>\n",
       "</table>\n",
       "</div>"
      ],
      "text/plain": [
       "   year title    genre\n",
       "4  2015    마션     감자먹방\n",
       "5  2015    사도  얀데레&츤데레\n",
       "6  2016    동주     별헤는밤"
      ]
     },
     "execution_count": 53,
     "metadata": {},
     "output_type": "execute_result"
    }
   ],
   "source": [
    "df2"
   ]
  },
  {
   "cell_type": "code",
   "execution_count": 54,
   "metadata": {
    "collapsed": true
   },
   "outputs": [],
   "source": [
    "baseball_players = pandas.read_clipboard()"
   ]
  },
  {
   "cell_type": "code",
   "execution_count": 55,
   "metadata": {
    "collapsed": false
   },
   "outputs": [
    {
     "data": {
      "text/html": [
       "<div>\n",
       "<table border=\"1\" class=\"dataframe\">\n",
       "  <thead>\n",
       "    <tr style=\"text-align: right;\">\n",
       "      <th></th>\n",
       "      <th>Name</th>\n",
       "      <th>Team</th>\n",
       "      <th>Position</th>\n",
       "      <th>Height(inches)</th>\n",
       "      <th>Weight(pounds)</th>\n",
       "      <th>Age</th>\n",
       "    </tr>\n",
       "  </thead>\n",
       "  <tbody>\n",
       "    <tr>\n",
       "      <th>0</th>\n",
       "      <td>Adam_Donachie</td>\n",
       "      <td>BAL</td>\n",
       "      <td>Catcher</td>\n",
       "      <td>74</td>\n",
       "      <td>180</td>\n",
       "      <td>22.99</td>\n",
       "    </tr>\n",
       "    <tr>\n",
       "      <th>1</th>\n",
       "      <td>Paul_Bako</td>\n",
       "      <td>BAL</td>\n",
       "      <td>Catcher</td>\n",
       "      <td>74</td>\n",
       "      <td>215</td>\n",
       "      <td>34.69</td>\n",
       "    </tr>\n",
       "    <tr>\n",
       "      <th>2</th>\n",
       "      <td>Ramon_Hernandez</td>\n",
       "      <td>BAL</td>\n",
       "      <td>Catcher</td>\n",
       "      <td>72</td>\n",
       "      <td>210</td>\n",
       "      <td>30.78</td>\n",
       "    </tr>\n",
       "    <tr>\n",
       "      <th>3</th>\n",
       "      <td>Kevin_Millar</td>\n",
       "      <td>BAL</td>\n",
       "      <td>First_Baseman</td>\n",
       "      <td>72</td>\n",
       "      <td>210</td>\n",
       "      <td>35.43</td>\n",
       "    </tr>\n",
       "    <tr>\n",
       "      <th>4</th>\n",
       "      <td>Chris_Gomez</td>\n",
       "      <td>BAL</td>\n",
       "      <td>First_Baseman</td>\n",
       "      <td>73</td>\n",
       "      <td>188</td>\n",
       "      <td>35.71</td>\n",
       "    </tr>\n",
       "  </tbody>\n",
       "</table>\n",
       "</div>"
      ],
      "text/plain": [
       "              Name Team       Position  Height(inches)  Weight(pounds)    Age\n",
       "0    Adam_Donachie  BAL        Catcher              74             180  22.99\n",
       "1        Paul_Bako  BAL        Catcher              74             215  34.69\n",
       "2  Ramon_Hernandez  BAL        Catcher              72             210  30.78\n",
       "3     Kevin_Millar  BAL  First_Baseman              72             210  35.43\n",
       "4      Chris_Gomez  BAL  First_Baseman              73             188  35.71"
      ]
     },
     "execution_count": 55,
     "metadata": {},
     "output_type": "execute_result"
    }
   ],
   "source": [
    "baseball_players.head()"
   ]
  },
  {
   "cell_type": "code",
   "execution_count": 56,
   "metadata": {
    "collapsed": true
   },
   "outputs": [],
   "source": [
    "baseball_players.to_csv('./baseball_player.csv', index=False)"
   ]
  },
  {
   "cell_type": "code",
   "execution_count": 57,
   "metadata": {
    "collapsed": true
   },
   "outputs": [],
   "source": [
    "bp_data = pandas.read_csv('./baseball_player.csv')"
   ]
  },
  {
   "cell_type": "code",
   "execution_count": 58,
   "metadata": {
    "collapsed": false
   },
   "outputs": [
    {
     "data": {
      "text/html": [
       "<div>\n",
       "<table border=\"1\" class=\"dataframe\">\n",
       "  <thead>\n",
       "    <tr style=\"text-align: right;\">\n",
       "      <th></th>\n",
       "      <th>Name</th>\n",
       "      <th>Team</th>\n",
       "      <th>Position</th>\n",
       "      <th>Height(inches)</th>\n",
       "      <th>Weight(pounds)</th>\n",
       "      <th>Age</th>\n",
       "    </tr>\n",
       "  </thead>\n",
       "  <tbody>\n",
       "    <tr>\n",
       "      <th>0</th>\n",
       "      <td>Adam_Donachie</td>\n",
       "      <td>BAL</td>\n",
       "      <td>Catcher</td>\n",
       "      <td>74</td>\n",
       "      <td>180</td>\n",
       "      <td>22.99</td>\n",
       "    </tr>\n",
       "    <tr>\n",
       "      <th>1</th>\n",
       "      <td>Paul_Bako</td>\n",
       "      <td>BAL</td>\n",
       "      <td>Catcher</td>\n",
       "      <td>74</td>\n",
       "      <td>215</td>\n",
       "      <td>34.69</td>\n",
       "    </tr>\n",
       "    <tr>\n",
       "      <th>2</th>\n",
       "      <td>Ramon_Hernandez</td>\n",
       "      <td>BAL</td>\n",
       "      <td>Catcher</td>\n",
       "      <td>72</td>\n",
       "      <td>210</td>\n",
       "      <td>30.78</td>\n",
       "    </tr>\n",
       "    <tr>\n",
       "      <th>3</th>\n",
       "      <td>Kevin_Millar</td>\n",
       "      <td>BAL</td>\n",
       "      <td>First_Baseman</td>\n",
       "      <td>72</td>\n",
       "      <td>210</td>\n",
       "      <td>35.43</td>\n",
       "    </tr>\n",
       "    <tr>\n",
       "      <th>4</th>\n",
       "      <td>Chris_Gomez</td>\n",
       "      <td>BAL</td>\n",
       "      <td>First_Baseman</td>\n",
       "      <td>73</td>\n",
       "      <td>188</td>\n",
       "      <td>35.71</td>\n",
       "    </tr>\n",
       "  </tbody>\n",
       "</table>\n",
       "</div>"
      ],
      "text/plain": [
       "              Name Team       Position  Height(inches)  Weight(pounds)    Age\n",
       "0    Adam_Donachie  BAL        Catcher              74             180  22.99\n",
       "1        Paul_Bako  BAL        Catcher              74             215  34.69\n",
       "2  Ramon_Hernandez  BAL        Catcher              72             210  30.78\n",
       "3     Kevin_Millar  BAL  First_Baseman              72             210  35.43\n",
       "4      Chris_Gomez  BAL  First_Baseman              73             188  35.71"
      ]
     },
     "execution_count": 58,
     "metadata": {},
     "output_type": "execute_result"
    }
   ],
   "source": [
    "bp_data.head()"
   ]
  },
  {
   "cell_type": "code",
   "execution_count": 59,
   "metadata": {
    "collapsed": true
   },
   "outputs": [],
   "source": [
    "inch_to_cm = 2.54\n",
    "pound_to_kg = 0.453592"
   ]
  },
  {
   "cell_type": "code",
   "execution_count": 60,
   "metadata": {
    "collapsed": false
   },
   "outputs": [
    {
     "data": {
      "text/plain": [
       "array([74, 74, 72, ..., 75, 75, 73])"
      ]
     },
     "execution_count": 60,
     "metadata": {},
     "output_type": "execute_result"
    }
   ],
   "source": [
    "bp_data['Height(inches)'].values"
   ]
  },
  {
   "cell_type": "code",
   "execution_count": 64,
   "metadata": {
    "collapsed": false
   },
   "outputs": [],
   "source": [
    "height = bp_data['Height(inches)'].values\n",
    "height_cm = height * inch_to_cm"
   ]
  },
  {
   "cell_type": "code",
   "execution_count": 65,
   "metadata": {
    "collapsed": false
   },
   "outputs": [
    {
     "data": {
      "text/plain": [
       "array([ 187.96,  187.96,  182.88, ...,  190.5 ,  190.5 ,  185.42])"
      ]
     },
     "execution_count": 65,
     "metadata": {},
     "output_type": "execute_result"
    }
   ],
   "source": [
    "height_cm"
   ]
  },
  {
   "cell_type": "code",
   "execution_count": 66,
   "metadata": {
    "collapsed": false
   },
   "outputs": [
    {
     "data": {
      "text/plain": [
       "1034"
      ]
     },
     "execution_count": 66,
     "metadata": {},
     "output_type": "execute_result"
    }
   ],
   "source": [
    "len(height_cm)"
   ]
  },
  {
   "cell_type": "code",
   "execution_count": 67,
   "metadata": {
    "collapsed": false
   },
   "outputs": [
    {
     "data": {
      "text/plain": [
       "954"
      ]
     },
     "execution_count": 67,
     "metadata": {},
     "output_type": "execute_result"
    }
   ],
   "source": [
    "len(height_cm[height_cm>180])"
   ]
  },
  {
   "cell_type": "code",
   "execution_count": 68,
   "metadata": {
    "collapsed": false
   },
   "outputs": [
    {
     "data": {
      "text/plain": [
       "array([ 35328.9616,  35328.9616,  33445.0944, ...,  36290.25  ,\n",
       "        36290.25  ,  34380.5764])"
      ]
     },
     "execution_count": 68,
     "metadata": {},
     "output_type": "execute_result"
    }
   ],
   "source": [
    "def square_array(arr):\n",
    "    return arr**2\n",
    "\n",
    "square_array(height_cm)"
   ]
  },
  {
   "cell_type": "code",
   "execution_count": 69,
   "metadata": {
    "collapsed": true
   },
   "outputs": [],
   "source": [
    "weight_kg = bp_data['Weight(pounds)'].values * pound_to_kg"
   ]
  },
  {
   "cell_type": "code",
   "execution_count": 70,
   "metadata": {
    "collapsed": false
   },
   "outputs": [
    {
     "data": {
      "text/plain": [
       "array([ 81.64656,  97.52228,  95.25432, ...,  92.98636,  86.18248,\n",
       "        88.45044])"
      ]
     },
     "execution_count": 70,
     "metadata": {},
     "output_type": "execute_result"
    }
   ],
   "source": [
    "weight_kg"
   ]
  },
  {
   "cell_type": "code",
   "execution_count": 71,
   "metadata": {
    "collapsed": false
   },
   "outputs": [
    {
     "data": {
      "text/plain": [
       "array([ 187.96,  187.96,  182.88, ...,  190.5 ,  190.5 ,  185.42])"
      ]
     },
     "execution_count": 71,
     "metadata": {},
     "output_type": "execute_result"
    }
   ],
   "source": [
    "height_cm"
   ]
  },
  {
   "cell_type": "code",
   "execution_count": 82,
   "metadata": {
    "collapsed": false
   },
   "outputs": [
    {
     "data": {
      "text/plain": [
       "1033"
      ]
     },
     "execution_count": 82,
     "metadata": {},
     "output_type": "execute_result"
    }
   ],
   "source": [
    "def cal_bmi(weight, height):\n",
    "    bmi = 0\n",
    "    inch_to_cm = 2.54\n",
    "    pound_to_kg = 0.453592\n",
    "    bmi = (weight * pound_to_kg)/(height * inch_to_cm)*100\n",
    "    return bmi\n",
    "\n",
    "newWeight = bp_data['Weight(pounds)'].values\n",
    "newHeight = bp_data['Height(inches)'].values\n",
    "bmi = cal_bmi(newWeight, newHeight)\n",
    "bmi[bmi>30]\n",
    "len(bmi[bmi>30])"
   ]
  },
  {
   "cell_type": "code",
   "execution_count": 83,
   "metadata": {
    "collapsed": false
   },
   "outputs": [],
   "source": [
    "bp_data['bmi'] = bmi"
   ]
  },
  {
   "cell_type": "code",
   "execution_count": 84,
   "metadata": {
    "collapsed": false
   },
   "outputs": [
    {
     "data": {
      "text/html": [
       "<div>\n",
       "<table border=\"1\" class=\"dataframe\">\n",
       "  <thead>\n",
       "    <tr style=\"text-align: right;\">\n",
       "      <th></th>\n",
       "      <th>Name</th>\n",
       "      <th>Team</th>\n",
       "      <th>Position</th>\n",
       "      <th>Height(inches)</th>\n",
       "      <th>Weight(pounds)</th>\n",
       "      <th>Age</th>\n",
       "      <th>bmi</th>\n",
       "    </tr>\n",
       "  </thead>\n",
       "  <tbody>\n",
       "    <tr>\n",
       "      <th>0</th>\n",
       "      <td>Adam_Donachie</td>\n",
       "      <td>BAL</td>\n",
       "      <td>Catcher</td>\n",
       "      <td>74</td>\n",
       "      <td>180</td>\n",
       "      <td>22.99</td>\n",
       "      <td>43.438263</td>\n",
       "    </tr>\n",
       "    <tr>\n",
       "      <th>1</th>\n",
       "      <td>Paul_Bako</td>\n",
       "      <td>BAL</td>\n",
       "      <td>Catcher</td>\n",
       "      <td>74</td>\n",
       "      <td>215</td>\n",
       "      <td>34.69</td>\n",
       "      <td>51.884592</td>\n",
       "    </tr>\n",
       "    <tr>\n",
       "      <th>2</th>\n",
       "      <td>Ramon_Hernandez</td>\n",
       "      <td>BAL</td>\n",
       "      <td>Catcher</td>\n",
       "      <td>72</td>\n",
       "      <td>210</td>\n",
       "      <td>30.78</td>\n",
       "      <td>52.085696</td>\n",
       "    </tr>\n",
       "    <tr>\n",
       "      <th>3</th>\n",
       "      <td>Kevin_Millar</td>\n",
       "      <td>BAL</td>\n",
       "      <td>First_Baseman</td>\n",
       "      <td>72</td>\n",
       "      <td>210</td>\n",
       "      <td>35.43</td>\n",
       "      <td>52.085696</td>\n",
       "    </tr>\n",
       "    <tr>\n",
       "      <th>4</th>\n",
       "      <td>Chris_Gomez</td>\n",
       "      <td>BAL</td>\n",
       "      <td>First_Baseman</td>\n",
       "      <td>73</td>\n",
       "      <td>188</td>\n",
       "      <td>35.71</td>\n",
       "      <td>45.990344</td>\n",
       "    </tr>\n",
       "    <tr>\n",
       "      <th>5</th>\n",
       "      <td>Brian_Roberts</td>\n",
       "      <td>BAL</td>\n",
       "      <td>Second_Baseman</td>\n",
       "      <td>69</td>\n",
       "      <td>176</td>\n",
       "      <td>29.39</td>\n",
       "      <td>45.550720</td>\n",
       "    </tr>\n",
       "    <tr>\n",
       "      <th>6</th>\n",
       "      <td>Miguel_Tejada</td>\n",
       "      <td>BAL</td>\n",
       "      <td>Shortstop</td>\n",
       "      <td>69</td>\n",
       "      <td>209</td>\n",
       "      <td>30.77</td>\n",
       "      <td>54.091480</td>\n",
       "    </tr>\n",
       "    <tr>\n",
       "      <th>7</th>\n",
       "      <td>Melvin_Mora</td>\n",
       "      <td>BAL</td>\n",
       "      <td>Third_Baseman</td>\n",
       "      <td>71</td>\n",
       "      <td>200</td>\n",
       "      <td>35.07</td>\n",
       "      <td>50.304092</td>\n",
       "    </tr>\n",
       "    <tr>\n",
       "      <th>8</th>\n",
       "      <td>Aubrey_Huff</td>\n",
       "      <td>BAL</td>\n",
       "      <td>Third_Baseman</td>\n",
       "      <td>76</td>\n",
       "      <td>231</td>\n",
       "      <td>30.19</td>\n",
       "      <td>54.278777</td>\n",
       "    </tr>\n",
       "    <tr>\n",
       "      <th>9</th>\n",
       "      <td>Adam_Stern</td>\n",
       "      <td>BAL</td>\n",
       "      <td>Outfielder</td>\n",
       "      <td>71</td>\n",
       "      <td>180</td>\n",
       "      <td>27.05</td>\n",
       "      <td>45.273683</td>\n",
       "    </tr>\n",
       "    <tr>\n",
       "      <th>10</th>\n",
       "      <td>Jeff_Fiorentino</td>\n",
       "      <td>BAL</td>\n",
       "      <td>Outfielder</td>\n",
       "      <td>73</td>\n",
       "      <td>188</td>\n",
       "      <td>23.88</td>\n",
       "      <td>45.990344</td>\n",
       "    </tr>\n",
       "    <tr>\n",
       "      <th>11</th>\n",
       "      <td>Freddie_Bynum</td>\n",
       "      <td>BAL</td>\n",
       "      <td>Outfielder</td>\n",
       "      <td>73</td>\n",
       "      <td>180</td>\n",
       "      <td>26.96</td>\n",
       "      <td>44.033308</td>\n",
       "    </tr>\n",
       "    <tr>\n",
       "      <th>12</th>\n",
       "      <td>Nick_Markakis</td>\n",
       "      <td>BAL</td>\n",
       "      <td>Outfielder</td>\n",
       "      <td>74</td>\n",
       "      <td>185</td>\n",
       "      <td>23.29</td>\n",
       "      <td>44.644882</td>\n",
       "    </tr>\n",
       "    <tr>\n",
       "      <th>13</th>\n",
       "      <td>Brandon_Fahey</td>\n",
       "      <td>BAL</td>\n",
       "      <td>Outfielder</td>\n",
       "      <td>74</td>\n",
       "      <td>160</td>\n",
       "      <td>26.11</td>\n",
       "      <td>38.611790</td>\n",
       "    </tr>\n",
       "    <tr>\n",
       "      <th>14</th>\n",
       "      <td>Corey_Patterson</td>\n",
       "      <td>BAL</td>\n",
       "      <td>Outfielder</td>\n",
       "      <td>69</td>\n",
       "      <td>180</td>\n",
       "      <td>27.55</td>\n",
       "      <td>46.585964</td>\n",
       "    </tr>\n",
       "    <tr>\n",
       "      <th>15</th>\n",
       "      <td>Jay_Payton</td>\n",
       "      <td>BAL</td>\n",
       "      <td>Outfielder</td>\n",
       "      <td>70</td>\n",
       "      <td>185</td>\n",
       "      <td>34.27</td>\n",
       "      <td>47.196018</td>\n",
       "    </tr>\n",
       "    <tr>\n",
       "      <th>16</th>\n",
       "      <td>Jay_Gibbons</td>\n",
       "      <td>BAL</td>\n",
       "      <td>Designated_Hitter</td>\n",
       "      <td>72</td>\n",
       "      <td>197</td>\n",
       "      <td>30.00</td>\n",
       "      <td>48.861343</td>\n",
       "    </tr>\n",
       "    <tr>\n",
       "      <th>17</th>\n",
       "      <td>Erik_Bedard</td>\n",
       "      <td>BAL</td>\n",
       "      <td>Starting_Pitcher</td>\n",
       "      <td>73</td>\n",
       "      <td>189</td>\n",
       "      <td>27.99</td>\n",
       "      <td>46.234974</td>\n",
       "    </tr>\n",
       "    <tr>\n",
       "      <th>18</th>\n",
       "      <td>Hayden_Penn</td>\n",
       "      <td>BAL</td>\n",
       "      <td>Starting_Pitcher</td>\n",
       "      <td>75</td>\n",
       "      <td>185</td>\n",
       "      <td>22.38</td>\n",
       "      <td>44.049617</td>\n",
       "    </tr>\n",
       "    <tr>\n",
       "      <th>19</th>\n",
       "      <td>Adam_Loewen</td>\n",
       "      <td>BAL</td>\n",
       "      <td>Starting_Pitcher</td>\n",
       "      <td>78</td>\n",
       "      <td>219</td>\n",
       "      <td>22.89</td>\n",
       "      <td>50.139637</td>\n",
       "    </tr>\n",
       "    <tr>\n",
       "      <th>20</th>\n",
       "      <td>Daniel_Cabrera</td>\n",
       "      <td>BAL</td>\n",
       "      <td>Starting_Pitcher</td>\n",
       "      <td>79</td>\n",
       "      <td>230</td>\n",
       "      <td>25.76</td>\n",
       "      <td>51.991508</td>\n",
       "    </tr>\n",
       "    <tr>\n",
       "      <th>21</th>\n",
       "      <td>Steve_Trachsel</td>\n",
       "      <td>BAL</td>\n",
       "      <td>Starting_Pitcher</td>\n",
       "      <td>76</td>\n",
       "      <td>205</td>\n",
       "      <td>36.33</td>\n",
       "      <td>48.169478</td>\n",
       "    </tr>\n",
       "    <tr>\n",
       "      <th>22</th>\n",
       "      <td>Jaret_Wright</td>\n",
       "      <td>BAL</td>\n",
       "      <td>Starting_Pitcher</td>\n",
       "      <td>74</td>\n",
       "      <td>230</td>\n",
       "      <td>31.17</td>\n",
       "      <td>55.504448</td>\n",
       "    </tr>\n",
       "    <tr>\n",
       "      <th>23</th>\n",
       "      <td>Kris_Benson</td>\n",
       "      <td>BAL</td>\n",
       "      <td>Starting_Pitcher</td>\n",
       "      <td>76</td>\n",
       "      <td>195</td>\n",
       "      <td>32.31</td>\n",
       "      <td>45.819747</td>\n",
       "    </tr>\n",
       "    <tr>\n",
       "      <th>24</th>\n",
       "      <td>Scott_Williamson</td>\n",
       "      <td>BAL</td>\n",
       "      <td>Relief_Pitcher</td>\n",
       "      <td>72</td>\n",
       "      <td>180</td>\n",
       "      <td>31.03</td>\n",
       "      <td>44.644882</td>\n",
       "    </tr>\n",
       "    <tr>\n",
       "      <th>25</th>\n",
       "      <td>John_Parrish</td>\n",
       "      <td>BAL</td>\n",
       "      <td>Relief_Pitcher</td>\n",
       "      <td>71</td>\n",
       "      <td>192</td>\n",
       "      <td>29.26</td>\n",
       "      <td>48.291929</td>\n",
       "    </tr>\n",
       "    <tr>\n",
       "      <th>26</th>\n",
       "      <td>Danys_Baez</td>\n",
       "      <td>BAL</td>\n",
       "      <td>Relief_Pitcher</td>\n",
       "      <td>75</td>\n",
       "      <td>225</td>\n",
       "      <td>29.47</td>\n",
       "      <td>53.573858</td>\n",
       "    </tr>\n",
       "    <tr>\n",
       "      <th>27</th>\n",
       "      <td>Chad_Bradford</td>\n",
       "      <td>BAL</td>\n",
       "      <td>Relief_Pitcher</td>\n",
       "      <td>77</td>\n",
       "      <td>203</td>\n",
       "      <td>32.46</td>\n",
       "      <td>47.080057</td>\n",
       "    </tr>\n",
       "    <tr>\n",
       "      <th>28</th>\n",
       "      <td>Jamie_Walker</td>\n",
       "      <td>BAL</td>\n",
       "      <td>Relief_Pitcher</td>\n",
       "      <td>74</td>\n",
       "      <td>195</td>\n",
       "      <td>35.67</td>\n",
       "      <td>47.058119</td>\n",
       "    </tr>\n",
       "    <tr>\n",
       "      <th>29</th>\n",
       "      <td>Brian_Burres</td>\n",
       "      <td>BAL</td>\n",
       "      <td>Relief_Pitcher</td>\n",
       "      <td>73</td>\n",
       "      <td>182</td>\n",
       "      <td>25.89</td>\n",
       "      <td>44.522567</td>\n",
       "    </tr>\n",
       "    <tr>\n",
       "      <th>...</th>\n",
       "      <td>...</td>\n",
       "      <td>...</td>\n",
       "      <td>...</td>\n",
       "      <td>...</td>\n",
       "      <td>...</td>\n",
       "      <td>...</td>\n",
       "      <td>...</td>\n",
       "    </tr>\n",
       "    <tr>\n",
       "      <th>1004</th>\n",
       "      <td>John_Nelson</td>\n",
       "      <td>STL</td>\n",
       "      <td>First_Baseman</td>\n",
       "      <td>73</td>\n",
       "      <td>190</td>\n",
       "      <td>27.99</td>\n",
       "      <td>46.479603</td>\n",
       "    </tr>\n",
       "    <tr>\n",
       "      <th>1005</th>\n",
       "      <td>Albert_Pujols</td>\n",
       "      <td>STL</td>\n",
       "      <td>First_Baseman</td>\n",
       "      <td>75</td>\n",
       "      <td>225</td>\n",
       "      <td>27.12</td>\n",
       "      <td>53.573858</td>\n",
       "    </tr>\n",
       "    <tr>\n",
       "      <th>1006</th>\n",
       "      <td>Adam_Kennedy</td>\n",
       "      <td>STL</td>\n",
       "      <td>Second_Baseman</td>\n",
       "      <td>73</td>\n",
       "      <td>185</td>\n",
       "      <td>31.14</td>\n",
       "      <td>45.256456</td>\n",
       "    </tr>\n",
       "    <tr>\n",
       "      <th>1007</th>\n",
       "      <td>Aaron_Miles</td>\n",
       "      <td>STL</td>\n",
       "      <td>Second_Baseman</td>\n",
       "      <td>67</td>\n",
       "      <td>180</td>\n",
       "      <td>30.21</td>\n",
       "      <td>47.976589</td>\n",
       "    </tr>\n",
       "    <tr>\n",
       "      <th>1008</th>\n",
       "      <td>David_Eckstein</td>\n",
       "      <td>STL</td>\n",
       "      <td>Shortstop</td>\n",
       "      <td>67</td>\n",
       "      <td>165</td>\n",
       "      <td>32.11</td>\n",
       "      <td>43.978540</td>\n",
       "    </tr>\n",
       "    <tr>\n",
       "      <th>1009</th>\n",
       "      <td>Scott_Rolen</td>\n",
       "      <td>STL</td>\n",
       "      <td>Third_Baseman</td>\n",
       "      <td>76</td>\n",
       "      <td>240</td>\n",
       "      <td>31.91</td>\n",
       "      <td>56.393535</td>\n",
       "    </tr>\n",
       "    <tr>\n",
       "      <th>1010</th>\n",
       "      <td>Scott_Spiezio</td>\n",
       "      <td>STL</td>\n",
       "      <td>Third_Baseman</td>\n",
       "      <td>74</td>\n",
       "      <td>220</td>\n",
       "      <td>34.44</td>\n",
       "      <td>53.091211</td>\n",
       "    </tr>\n",
       "    <tr>\n",
       "      <th>1011</th>\n",
       "      <td>Jim_Edmonds</td>\n",
       "      <td>STL</td>\n",
       "      <td>Outfielder</td>\n",
       "      <td>73</td>\n",
       "      <td>212</td>\n",
       "      <td>36.68</td>\n",
       "      <td>51.861452</td>\n",
       "    </tr>\n",
       "    <tr>\n",
       "      <th>1012</th>\n",
       "      <td>So_Taguchi</td>\n",
       "      <td>STL</td>\n",
       "      <td>Outfielder</td>\n",
       "      <td>70</td>\n",
       "      <td>163</td>\n",
       "      <td>37.66</td>\n",
       "      <td>41.583519</td>\n",
       "    </tr>\n",
       "    <tr>\n",
       "      <th>1013</th>\n",
       "      <td>Juan_Encarnacion</td>\n",
       "      <td>STL</td>\n",
       "      <td>Outfielder</td>\n",
       "      <td>75</td>\n",
       "      <td>215</td>\n",
       "      <td>30.98</td>\n",
       "      <td>51.192798</td>\n",
       "    </tr>\n",
       "    <tr>\n",
       "      <th>1014</th>\n",
       "      <td>Skip_Schumaker</td>\n",
       "      <td>STL</td>\n",
       "      <td>Outfielder</td>\n",
       "      <td>70</td>\n",
       "      <td>175</td>\n",
       "      <td>27.07</td>\n",
       "      <td>44.644882</td>\n",
       "    </tr>\n",
       "    <tr>\n",
       "      <th>1015</th>\n",
       "      <td>John_Rodriguez</td>\n",
       "      <td>STL</td>\n",
       "      <td>Outfielder</td>\n",
       "      <td>72</td>\n",
       "      <td>205</td>\n",
       "      <td>29.11</td>\n",
       "      <td>50.845560</td>\n",
       "    </tr>\n",
       "    <tr>\n",
       "      <th>1016</th>\n",
       "      <td>Chris_Duncan</td>\n",
       "      <td>STL</td>\n",
       "      <td>Outfielder</td>\n",
       "      <td>77</td>\n",
       "      <td>210</td>\n",
       "      <td>25.82</td>\n",
       "      <td>48.703508</td>\n",
       "    </tr>\n",
       "    <tr>\n",
       "      <th>1017</th>\n",
       "      <td>Adam_Wainwright</td>\n",
       "      <td>STL</td>\n",
       "      <td>Starting_Pitcher</td>\n",
       "      <td>79</td>\n",
       "      <td>205</td>\n",
       "      <td>25.50</td>\n",
       "      <td>46.340257</td>\n",
       "    </tr>\n",
       "    <tr>\n",
       "      <th>1018</th>\n",
       "      <td>Mark_Mulder</td>\n",
       "      <td>STL</td>\n",
       "      <td>Starting_Pitcher</td>\n",
       "      <td>78</td>\n",
       "      <td>208</td>\n",
       "      <td>29.57</td>\n",
       "      <td>47.621207</td>\n",
       "    </tr>\n",
       "    <tr>\n",
       "      <th>1019</th>\n",
       "      <td>Anthony_Reyes</td>\n",
       "      <td>STL</td>\n",
       "      <td>Starting_Pitcher</td>\n",
       "      <td>74</td>\n",
       "      <td>215</td>\n",
       "      <td>25.37</td>\n",
       "      <td>51.884592</td>\n",
       "    </tr>\n",
       "    <tr>\n",
       "      <th>1020</th>\n",
       "      <td>Ryan_Franklin</td>\n",
       "      <td>STL</td>\n",
       "      <td>Starting_Pitcher</td>\n",
       "      <td>75</td>\n",
       "      <td>180</td>\n",
       "      <td>33.99</td>\n",
       "      <td>42.859087</td>\n",
       "    </tr>\n",
       "    <tr>\n",
       "      <th>1021</th>\n",
       "      <td>Kip_Wells</td>\n",
       "      <td>STL</td>\n",
       "      <td>Starting_Pitcher</td>\n",
       "      <td>75</td>\n",
       "      <td>200</td>\n",
       "      <td>29.86</td>\n",
       "      <td>47.621207</td>\n",
       "    </tr>\n",
       "    <tr>\n",
       "      <th>1022</th>\n",
       "      <td>Chris_Carpenter</td>\n",
       "      <td>STL</td>\n",
       "      <td>Starting_Pitcher</td>\n",
       "      <td>78</td>\n",
       "      <td>230</td>\n",
       "      <td>31.84</td>\n",
       "      <td>52.658066</td>\n",
       "    </tr>\n",
       "    <tr>\n",
       "      <th>1023</th>\n",
       "      <td>Russ_Springer</td>\n",
       "      <td>STL</td>\n",
       "      <td>Relief_Pitcher</td>\n",
       "      <td>76</td>\n",
       "      <td>211</td>\n",
       "      <td>38.31</td>\n",
       "      <td>49.579316</td>\n",
       "    </tr>\n",
       "    <tr>\n",
       "      <th>1024</th>\n",
       "      <td>Jason_Isringhausen</td>\n",
       "      <td>STL</td>\n",
       "      <td>Relief_Pitcher</td>\n",
       "      <td>75</td>\n",
       "      <td>230</td>\n",
       "      <td>34.48</td>\n",
       "      <td>54.764388</td>\n",
       "    </tr>\n",
       "    <tr>\n",
       "      <th>1025</th>\n",
       "      <td>Ricardo_Rincon</td>\n",
       "      <td>STL</td>\n",
       "      <td>Relief_Pitcher</td>\n",
       "      <td>69</td>\n",
       "      <td>190</td>\n",
       "      <td>36.88</td>\n",
       "      <td>49.174073</td>\n",
       "    </tr>\n",
       "    <tr>\n",
       "      <th>1026</th>\n",
       "      <td>Braden_Looper</td>\n",
       "      <td>STL</td>\n",
       "      <td>Relief_Pitcher</td>\n",
       "      <td>75</td>\n",
       "      <td>220</td>\n",
       "      <td>32.34</td>\n",
       "      <td>52.383328</td>\n",
       "    </tr>\n",
       "    <tr>\n",
       "      <th>1027</th>\n",
       "      <td>Randy_Flores</td>\n",
       "      <td>STL</td>\n",
       "      <td>Relief_Pitcher</td>\n",
       "      <td>72</td>\n",
       "      <td>180</td>\n",
       "      <td>31.58</td>\n",
       "      <td>44.644882</td>\n",
       "    </tr>\n",
       "    <tr>\n",
       "      <th>1028</th>\n",
       "      <td>Josh_Hancock</td>\n",
       "      <td>STL</td>\n",
       "      <td>Relief_Pitcher</td>\n",
       "      <td>75</td>\n",
       "      <td>205</td>\n",
       "      <td>28.89</td>\n",
       "      <td>48.811738</td>\n",
       "    </tr>\n",
       "    <tr>\n",
       "      <th>1029</th>\n",
       "      <td>Brad_Thompson</td>\n",
       "      <td>STL</td>\n",
       "      <td>Relief_Pitcher</td>\n",
       "      <td>73</td>\n",
       "      <td>190</td>\n",
       "      <td>25.08</td>\n",
       "      <td>46.479603</td>\n",
       "    </tr>\n",
       "    <tr>\n",
       "      <th>1030</th>\n",
       "      <td>Tyler_Johnson</td>\n",
       "      <td>STL</td>\n",
       "      <td>Relief_Pitcher</td>\n",
       "      <td>74</td>\n",
       "      <td>180</td>\n",
       "      <td>25.73</td>\n",
       "      <td>43.438263</td>\n",
       "    </tr>\n",
       "    <tr>\n",
       "      <th>1031</th>\n",
       "      <td>Chris_Narveson</td>\n",
       "      <td>STL</td>\n",
       "      <td>Relief_Pitcher</td>\n",
       "      <td>75</td>\n",
       "      <td>205</td>\n",
       "      <td>25.19</td>\n",
       "      <td>48.811738</td>\n",
       "    </tr>\n",
       "    <tr>\n",
       "      <th>1032</th>\n",
       "      <td>Randy_Keisler</td>\n",
       "      <td>STL</td>\n",
       "      <td>Relief_Pitcher</td>\n",
       "      <td>75</td>\n",
       "      <td>190</td>\n",
       "      <td>31.01</td>\n",
       "      <td>45.240147</td>\n",
       "    </tr>\n",
       "    <tr>\n",
       "      <th>1033</th>\n",
       "      <td>Josh_Kinney</td>\n",
       "      <td>STL</td>\n",
       "      <td>Relief_Pitcher</td>\n",
       "      <td>73</td>\n",
       "      <td>195</td>\n",
       "      <td>27.92</td>\n",
       "      <td>47.702751</td>\n",
       "    </tr>\n",
       "  </tbody>\n",
       "</table>\n",
       "<p>1034 rows × 7 columns</p>\n",
       "</div>"
      ],
      "text/plain": [
       "                    Name Team           Position  Height(inches)  \\\n",
       "0          Adam_Donachie  BAL            Catcher              74   \n",
       "1              Paul_Bako  BAL            Catcher              74   \n",
       "2        Ramon_Hernandez  BAL            Catcher              72   \n",
       "3           Kevin_Millar  BAL      First_Baseman              72   \n",
       "4            Chris_Gomez  BAL      First_Baseman              73   \n",
       "5          Brian_Roberts  BAL     Second_Baseman              69   \n",
       "6          Miguel_Tejada  BAL          Shortstop              69   \n",
       "7            Melvin_Mora  BAL      Third_Baseman              71   \n",
       "8            Aubrey_Huff  BAL      Third_Baseman              76   \n",
       "9             Adam_Stern  BAL         Outfielder              71   \n",
       "10       Jeff_Fiorentino  BAL         Outfielder              73   \n",
       "11         Freddie_Bynum  BAL         Outfielder              73   \n",
       "12         Nick_Markakis  BAL         Outfielder              74   \n",
       "13         Brandon_Fahey  BAL         Outfielder              74   \n",
       "14       Corey_Patterson  BAL         Outfielder              69   \n",
       "15            Jay_Payton  BAL         Outfielder              70   \n",
       "16           Jay_Gibbons  BAL  Designated_Hitter              72   \n",
       "17           Erik_Bedard  BAL   Starting_Pitcher              73   \n",
       "18           Hayden_Penn  BAL   Starting_Pitcher              75   \n",
       "19           Adam_Loewen  BAL   Starting_Pitcher              78   \n",
       "20        Daniel_Cabrera  BAL   Starting_Pitcher              79   \n",
       "21        Steve_Trachsel  BAL   Starting_Pitcher              76   \n",
       "22          Jaret_Wright  BAL   Starting_Pitcher              74   \n",
       "23           Kris_Benson  BAL   Starting_Pitcher              76   \n",
       "24      Scott_Williamson  BAL     Relief_Pitcher              72   \n",
       "25          John_Parrish  BAL     Relief_Pitcher              71   \n",
       "26            Danys_Baez  BAL     Relief_Pitcher              75   \n",
       "27         Chad_Bradford  BAL     Relief_Pitcher              77   \n",
       "28          Jamie_Walker  BAL     Relief_Pitcher              74   \n",
       "29          Brian_Burres  BAL     Relief_Pitcher              73   \n",
       "...                  ...  ...                ...             ...   \n",
       "1004         John_Nelson  STL      First_Baseman              73   \n",
       "1005       Albert_Pujols  STL      First_Baseman              75   \n",
       "1006        Adam_Kennedy  STL     Second_Baseman              73   \n",
       "1007         Aaron_Miles  STL     Second_Baseman              67   \n",
       "1008      David_Eckstein  STL          Shortstop              67   \n",
       "1009         Scott_Rolen  STL      Third_Baseman              76   \n",
       "1010       Scott_Spiezio  STL      Third_Baseman              74   \n",
       "1011         Jim_Edmonds  STL         Outfielder              73   \n",
       "1012          So_Taguchi  STL         Outfielder              70   \n",
       "1013    Juan_Encarnacion  STL         Outfielder              75   \n",
       "1014      Skip_Schumaker  STL         Outfielder              70   \n",
       "1015      John_Rodriguez  STL         Outfielder              72   \n",
       "1016        Chris_Duncan  STL         Outfielder              77   \n",
       "1017     Adam_Wainwright  STL   Starting_Pitcher              79   \n",
       "1018         Mark_Mulder  STL   Starting_Pitcher              78   \n",
       "1019       Anthony_Reyes  STL   Starting_Pitcher              74   \n",
       "1020       Ryan_Franklin  STL   Starting_Pitcher              75   \n",
       "1021           Kip_Wells  STL   Starting_Pitcher              75   \n",
       "1022     Chris_Carpenter  STL   Starting_Pitcher              78   \n",
       "1023       Russ_Springer  STL     Relief_Pitcher              76   \n",
       "1024  Jason_Isringhausen  STL     Relief_Pitcher              75   \n",
       "1025      Ricardo_Rincon  STL     Relief_Pitcher              69   \n",
       "1026       Braden_Looper  STL     Relief_Pitcher              75   \n",
       "1027        Randy_Flores  STL     Relief_Pitcher              72   \n",
       "1028        Josh_Hancock  STL     Relief_Pitcher              75   \n",
       "1029       Brad_Thompson  STL     Relief_Pitcher              73   \n",
       "1030       Tyler_Johnson  STL     Relief_Pitcher              74   \n",
       "1031      Chris_Narveson  STL     Relief_Pitcher              75   \n",
       "1032       Randy_Keisler  STL     Relief_Pitcher              75   \n",
       "1033         Josh_Kinney  STL     Relief_Pitcher              73   \n",
       "\n",
       "      Weight(pounds)    Age        bmi  \n",
       "0                180  22.99  43.438263  \n",
       "1                215  34.69  51.884592  \n",
       "2                210  30.78  52.085696  \n",
       "3                210  35.43  52.085696  \n",
       "4                188  35.71  45.990344  \n",
       "5                176  29.39  45.550720  \n",
       "6                209  30.77  54.091480  \n",
       "7                200  35.07  50.304092  \n",
       "8                231  30.19  54.278777  \n",
       "9                180  27.05  45.273683  \n",
       "10               188  23.88  45.990344  \n",
       "11               180  26.96  44.033308  \n",
       "12               185  23.29  44.644882  \n",
       "13               160  26.11  38.611790  \n",
       "14               180  27.55  46.585964  \n",
       "15               185  34.27  47.196018  \n",
       "16               197  30.00  48.861343  \n",
       "17               189  27.99  46.234974  \n",
       "18               185  22.38  44.049617  \n",
       "19               219  22.89  50.139637  \n",
       "20               230  25.76  51.991508  \n",
       "21               205  36.33  48.169478  \n",
       "22               230  31.17  55.504448  \n",
       "23               195  32.31  45.819747  \n",
       "24               180  31.03  44.644882  \n",
       "25               192  29.26  48.291929  \n",
       "26               225  29.47  53.573858  \n",
       "27               203  32.46  47.080057  \n",
       "28               195  35.67  47.058119  \n",
       "29               182  25.89  44.522567  \n",
       "...              ...    ...        ...  \n",
       "1004             190  27.99  46.479603  \n",
       "1005             225  27.12  53.573858  \n",
       "1006             185  31.14  45.256456  \n",
       "1007             180  30.21  47.976589  \n",
       "1008             165  32.11  43.978540  \n",
       "1009             240  31.91  56.393535  \n",
       "1010             220  34.44  53.091211  \n",
       "1011             212  36.68  51.861452  \n",
       "1012             163  37.66  41.583519  \n",
       "1013             215  30.98  51.192798  \n",
       "1014             175  27.07  44.644882  \n",
       "1015             205  29.11  50.845560  \n",
       "1016             210  25.82  48.703508  \n",
       "1017             205  25.50  46.340257  \n",
       "1018             208  29.57  47.621207  \n",
       "1019             215  25.37  51.884592  \n",
       "1020             180  33.99  42.859087  \n",
       "1021             200  29.86  47.621207  \n",
       "1022             230  31.84  52.658066  \n",
       "1023             211  38.31  49.579316  \n",
       "1024             230  34.48  54.764388  \n",
       "1025             190  36.88  49.174073  \n",
       "1026             220  32.34  52.383328  \n",
       "1027             180  31.58  44.644882  \n",
       "1028             205  28.89  48.811738  \n",
       "1029             190  25.08  46.479603  \n",
       "1030             180  25.73  43.438263  \n",
       "1031             205  25.19  48.811738  \n",
       "1032             190  31.01  45.240147  \n",
       "1033             195  27.92  47.702751  \n",
       "\n",
       "[1034 rows x 7 columns]"
      ]
     },
     "execution_count": 84,
     "metadata": {},
     "output_type": "execute_result"
    }
   ],
   "source": [
    "bp_data"
   ]
  },
  {
   "cell_type": "code",
   "execution_count": 86,
   "metadata": {
    "collapsed": false
   },
   "outputs": [
    {
     "data": {
      "text/plain": [
       "0    fat\n",
       "1    fat\n",
       "2    fat\n",
       "3    fat\n",
       "4    fat\n",
       "Name: bmi, dtype: object"
      ]
     },
     "execution_count": 86,
     "metadata": {},
     "output_type": "execute_result"
    }
   ],
   "source": [
    "def set_status(bmi):\n",
    "    if bmi > 30:\n",
    "        return 'fat'\n",
    "    elif bmi > 25:\n",
    "        return 'over weight'\n",
    "    elif bmi > 20:\n",
    "        return 'normal'\n",
    "    else:\n",
    "        return 'low weight'\n",
    "\n",
    "bp_data['bmi'].apply(set_status).head()"
   ]
  },
  {
   "cell_type": "code",
   "execution_count": 88,
   "metadata": {
    "collapsed": false
   },
   "outputs": [],
   "source": [
    "def set_age_status(age):\n",
    "    if age > 34:\n",
    "        return 'agegroup_1'\n",
    "    elif age > 29:\n",
    "        return 'agegroup_2'\n",
    "    elif age > 24:\n",
    "        return 'agegroup_3'\n",
    "    else:\n",
    "        return 'agegroup_4'\n",
    "    \n",
    "bp_data['age_status'] = bp_data['Age'].apply(set_age_status)"
   ]
  },
  {
   "cell_type": "code",
   "execution_count": 89,
   "metadata": {
    "collapsed": false
   },
   "outputs": [
    {
     "data": {
      "text/html": [
       "<div>\n",
       "<table border=\"1\" class=\"dataframe\">\n",
       "  <thead>\n",
       "    <tr style=\"text-align: right;\">\n",
       "      <th></th>\n",
       "      <th>Name</th>\n",
       "      <th>Team</th>\n",
       "      <th>Position</th>\n",
       "      <th>Height(inches)</th>\n",
       "      <th>Weight(pounds)</th>\n",
       "      <th>Age</th>\n",
       "      <th>bmi</th>\n",
       "      <th>age_status</th>\n",
       "    </tr>\n",
       "  </thead>\n",
       "  <tbody>\n",
       "    <tr>\n",
       "      <th>0</th>\n",
       "      <td>Adam_Donachie</td>\n",
       "      <td>BAL</td>\n",
       "      <td>Catcher</td>\n",
       "      <td>74</td>\n",
       "      <td>180</td>\n",
       "      <td>22.99</td>\n",
       "      <td>43.438263</td>\n",
       "      <td>agegroup_4</td>\n",
       "    </tr>\n",
       "    <tr>\n",
       "      <th>1</th>\n",
       "      <td>Paul_Bako</td>\n",
       "      <td>BAL</td>\n",
       "      <td>Catcher</td>\n",
       "      <td>74</td>\n",
       "      <td>215</td>\n",
       "      <td>34.69</td>\n",
       "      <td>51.884592</td>\n",
       "      <td>agegroup_1</td>\n",
       "    </tr>\n",
       "    <tr>\n",
       "      <th>2</th>\n",
       "      <td>Ramon_Hernandez</td>\n",
       "      <td>BAL</td>\n",
       "      <td>Catcher</td>\n",
       "      <td>72</td>\n",
       "      <td>210</td>\n",
       "      <td>30.78</td>\n",
       "      <td>52.085696</td>\n",
       "      <td>agegroup_2</td>\n",
       "    </tr>\n",
       "    <tr>\n",
       "      <th>3</th>\n",
       "      <td>Kevin_Millar</td>\n",
       "      <td>BAL</td>\n",
       "      <td>First_Baseman</td>\n",
       "      <td>72</td>\n",
       "      <td>210</td>\n",
       "      <td>35.43</td>\n",
       "      <td>52.085696</td>\n",
       "      <td>agegroup_1</td>\n",
       "    </tr>\n",
       "    <tr>\n",
       "      <th>4</th>\n",
       "      <td>Chris_Gomez</td>\n",
       "      <td>BAL</td>\n",
       "      <td>First_Baseman</td>\n",
       "      <td>73</td>\n",
       "      <td>188</td>\n",
       "      <td>35.71</td>\n",
       "      <td>45.990344</td>\n",
       "      <td>agegroup_1</td>\n",
       "    </tr>\n",
       "  </tbody>\n",
       "</table>\n",
       "</div>"
      ],
      "text/plain": [
       "              Name Team       Position  Height(inches)  Weight(pounds)    Age  \\\n",
       "0    Adam_Donachie  BAL        Catcher              74             180  22.99   \n",
       "1        Paul_Bako  BAL        Catcher              74             215  34.69   \n",
       "2  Ramon_Hernandez  BAL        Catcher              72             210  30.78   \n",
       "3     Kevin_Millar  BAL  First_Baseman              72             210  35.43   \n",
       "4      Chris_Gomez  BAL  First_Baseman              73             188  35.71   \n",
       "\n",
       "         bmi  age_status  \n",
       "0  43.438263  agegroup_4  \n",
       "1  51.884592  agegroup_1  \n",
       "2  52.085696  agegroup_2  \n",
       "3  52.085696  agegroup_1  \n",
       "4  45.990344  agegroup_1  "
      ]
     },
     "execution_count": 89,
     "metadata": {},
     "output_type": "execute_result"
    }
   ],
   "source": [
    "bp_data.head()"
   ]
  },
  {
   "cell_type": "code",
   "execution_count": 90,
   "metadata": {
    "collapsed": true
   },
   "outputs": [],
   "source": [
    "def inch_to_cm(inch):\n",
    "    return inch*2.54\n",
    "\n",
    "bp_data['Height(cm)'] = bp_data['Height(inches)'].apply(inch_to_cm)"
   ]
  },
  {
   "cell_type": "code",
   "execution_count": 91,
   "metadata": {
    "collapsed": false
   },
   "outputs": [
    {
     "data": {
      "text/html": [
       "<div>\n",
       "<table border=\"1\" class=\"dataframe\">\n",
       "  <thead>\n",
       "    <tr style=\"text-align: right;\">\n",
       "      <th></th>\n",
       "      <th>Name</th>\n",
       "      <th>Team</th>\n",
       "      <th>Position</th>\n",
       "      <th>Height(inches)</th>\n",
       "      <th>Weight(pounds)</th>\n",
       "      <th>Age</th>\n",
       "      <th>bmi</th>\n",
       "      <th>age_status</th>\n",
       "      <th>Height(cm)</th>\n",
       "    </tr>\n",
       "  </thead>\n",
       "  <tbody>\n",
       "    <tr>\n",
       "      <th>0</th>\n",
       "      <td>Adam_Donachie</td>\n",
       "      <td>BAL</td>\n",
       "      <td>Catcher</td>\n",
       "      <td>74</td>\n",
       "      <td>180</td>\n",
       "      <td>22.99</td>\n",
       "      <td>43.438263</td>\n",
       "      <td>agegroup_4</td>\n",
       "      <td>187.96</td>\n",
       "    </tr>\n",
       "    <tr>\n",
       "      <th>1</th>\n",
       "      <td>Paul_Bako</td>\n",
       "      <td>BAL</td>\n",
       "      <td>Catcher</td>\n",
       "      <td>74</td>\n",
       "      <td>215</td>\n",
       "      <td>34.69</td>\n",
       "      <td>51.884592</td>\n",
       "      <td>agegroup_1</td>\n",
       "      <td>187.96</td>\n",
       "    </tr>\n",
       "    <tr>\n",
       "      <th>2</th>\n",
       "      <td>Ramon_Hernandez</td>\n",
       "      <td>BAL</td>\n",
       "      <td>Catcher</td>\n",
       "      <td>72</td>\n",
       "      <td>210</td>\n",
       "      <td>30.78</td>\n",
       "      <td>52.085696</td>\n",
       "      <td>agegroup_2</td>\n",
       "      <td>182.88</td>\n",
       "    </tr>\n",
       "    <tr>\n",
       "      <th>3</th>\n",
       "      <td>Kevin_Millar</td>\n",
       "      <td>BAL</td>\n",
       "      <td>First_Baseman</td>\n",
       "      <td>72</td>\n",
       "      <td>210</td>\n",
       "      <td>35.43</td>\n",
       "      <td>52.085696</td>\n",
       "      <td>agegroup_1</td>\n",
       "      <td>182.88</td>\n",
       "    </tr>\n",
       "    <tr>\n",
       "      <th>4</th>\n",
       "      <td>Chris_Gomez</td>\n",
       "      <td>BAL</td>\n",
       "      <td>First_Baseman</td>\n",
       "      <td>73</td>\n",
       "      <td>188</td>\n",
       "      <td>35.71</td>\n",
       "      <td>45.990344</td>\n",
       "      <td>agegroup_1</td>\n",
       "      <td>185.42</td>\n",
       "    </tr>\n",
       "  </tbody>\n",
       "</table>\n",
       "</div>"
      ],
      "text/plain": [
       "              Name Team       Position  Height(inches)  Weight(pounds)    Age  \\\n",
       "0    Adam_Donachie  BAL        Catcher              74             180  22.99   \n",
       "1        Paul_Bako  BAL        Catcher              74             215  34.69   \n",
       "2  Ramon_Hernandez  BAL        Catcher              72             210  30.78   \n",
       "3     Kevin_Millar  BAL  First_Baseman              72             210  35.43   \n",
       "4      Chris_Gomez  BAL  First_Baseman              73             188  35.71   \n",
       "\n",
       "         bmi  age_status  Height(cm)  \n",
       "0  43.438263  agegroup_4      187.96  \n",
       "1  51.884592  agegroup_1      187.96  \n",
       "2  52.085696  agegroup_2      182.88  \n",
       "3  52.085696  agegroup_1      182.88  \n",
       "4  45.990344  agegroup_1      185.42  "
      ]
     },
     "execution_count": 91,
     "metadata": {},
     "output_type": "execute_result"
    }
   ],
   "source": [
    "bp_data.head()"
   ]
  },
  {
   "cell_type": "code",
   "execution_count": 96,
   "metadata": {
    "collapsed": false
   },
   "outputs": [
    {
     "data": {
      "text/plain": [
       "<matplotlib.axes._subplots.AxesSubplot at 0x10eaeb710>"
      ]
     },
     "execution_count": 96,
     "metadata": {},
     "output_type": "execute_result"
    },
    {
     "data": {
      "image/png": "[encoded data removed]",
      "text/plain": [
       "<matplotlib.figure.Figure at 0x11355cb10>"
      ]
     },
     "metadata": {},
     "output_type": "display_data"
    }
   ],
   "source": [
    "%matplotlib inline\n",
    "bp_data['Position'].value_counts().plot(kind='bar')"
   ]
  },
  {
   "cell_type": "code",
   "execution_count": 95,
   "metadata": {
    "collapsed": false
   },
   "outputs": [
    {
     "data": {
      "text/plain": [
       "<matplotlib.axes._subplots.AxesSubplot at 0x10eb6ee50>"
      ]
     },
     "execution_count": 95,
     "metadata": {},
     "output_type": "execute_result"
    },
    {
     "data": {
      "image/png": "[encoded data removed]",
      "text/plain": [
       "<matplotlib.figure.Figure at 0x10eb6e550>"
      ]
     },
     "metadata": {},
     "output_type": "display_data"
    }
   ],
   "source": [
    "%matplotlib inline\n",
    "bp_data['age_status'].value_counts().plot(kind='bar')"
   ]
  },
  {
   "cell_type": "code",
   "execution_count": 97,
   "metadata": {
    "collapsed": false
   },
   "outputs": [
    {
     "data": {
      "text/html": [
       "<div>\n",
       "<table border=\"1\" class=\"dataframe\">\n",
       "  <thead>\n",
       "    <tr style=\"text-align: right;\">\n",
       "      <th></th>\n",
       "      <th>Height(inches)</th>\n",
       "      <th>Weight(pounds)</th>\n",
       "      <th>Age</th>\n",
       "      <th>bmi</th>\n",
       "      <th>Height(cm)</th>\n",
       "    </tr>\n",
       "  </thead>\n",
       "  <tbody>\n",
       "    <tr>\n",
       "      <th>count</th>\n",
       "      <td>1034.000000</td>\n",
       "      <td>1033.000000</td>\n",
       "      <td>1034.000000</td>\n",
       "      <td>1033.000000</td>\n",
       "      <td>1034.000000</td>\n",
       "    </tr>\n",
       "    <tr>\n",
       "      <th>mean</th>\n",
       "      <td>73.697292</td>\n",
       "      <td>201.689255</td>\n",
       "      <td>28.736712</td>\n",
       "      <td>48.834653</td>\n",
       "      <td>187.191122</td>\n",
       "    </tr>\n",
       "    <tr>\n",
       "      <th>std</th>\n",
       "      <td>2.305818</td>\n",
       "      <td>20.991491</td>\n",
       "      <td>4.320310</td>\n",
       "      <td>4.451654</td>\n",
       "      <td>5.856779</td>\n",
       "    </tr>\n",
       "    <tr>\n",
       "      <th>min</th>\n",
       "      <td>67.000000</td>\n",
       "      <td>150.000000</td>\n",
       "      <td>20.900000</td>\n",
       "      <td>37.144542</td>\n",
       "      <td>170.180000</td>\n",
       "    </tr>\n",
       "    <tr>\n",
       "      <th>25%</th>\n",
       "      <td>72.000000</td>\n",
       "      <td>187.000000</td>\n",
       "      <td>25.440000</td>\n",
       "      <td>45.851500</td>\n",
       "      <td>182.880000</td>\n",
       "    </tr>\n",
       "    <tr>\n",
       "      <th>50%</th>\n",
       "      <td>74.000000</td>\n",
       "      <td>200.000000</td>\n",
       "      <td>27.925000</td>\n",
       "      <td>48.703508</td>\n",
       "      <td>187.960000</td>\n",
       "    </tr>\n",
       "    <tr>\n",
       "      <th>75%</th>\n",
       "      <td>75.000000</td>\n",
       "      <td>215.000000</td>\n",
       "      <td>31.232500</td>\n",
       "      <td>51.884592</td>\n",
       "      <td>190.500000</td>\n",
       "    </tr>\n",
       "    <tr>\n",
       "      <th>max</th>\n",
       "      <td>83.000000</td>\n",
       "      <td>290.000000</td>\n",
       "      <td>48.520000</td>\n",
       "      <td>66.193478</td>\n",
       "      <td>210.820000</td>\n",
       "    </tr>\n",
       "  </tbody>\n",
       "</table>\n",
       "</div>"
      ],
      "text/plain": [
       "       Height(inches)  Weight(pounds)          Age          bmi   Height(cm)\n",
       "count     1034.000000     1033.000000  1034.000000  1033.000000  1034.000000\n",
       "mean        73.697292      201.689255    28.736712    48.834653   187.191122\n",
       "std          2.305818       20.991491     4.320310     4.451654     5.856779\n",
       "min         67.000000      150.000000    20.900000    37.144542   170.180000\n",
       "25%         72.000000      187.000000    25.440000    45.851500   182.880000\n",
       "50%         74.000000      200.000000    27.925000    48.703508   187.960000\n",
       "75%         75.000000      215.000000    31.232500    51.884592   190.500000\n",
       "max         83.000000      290.000000    48.520000    66.193478   210.820000"
      ]
     },
     "execution_count": 97,
     "metadata": {},
     "output_type": "execute_result"
    }
   ],
   "source": [
    "bp_data.describe()"
   ]
  },
  {
   "cell_type": "code",
   "execution_count": null,
   "metadata": {
    "collapsed": true
   },
   "outputs": [],
   "source": []
  }
 ],
 "metadata": {
  "kernelspec": {
   "display_name": "Python 2",
   "language": "python",
   "name": "python2"
  },
  "language_info": {
   "codemirror_mode": {
    "name": "ipython",
    "version": 2
   },
   "file_extension": ".py",
   "mimetype": "text/x-python",
   "name": "python",
   "nbconvert_exporter": "python",
   "pygments_lexer": "ipython2",
   "version": "2.7.11"
  }
 },
 "nbformat": 4,
 "nbformat_minor": 0
}
